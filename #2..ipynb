{
 "cells": [
  {
   "cell_type": "code",
   "execution_count": 37,
   "metadata": {
    "collapsed": true
   },
   "outputs": [],
   "source": [
    "from selenium import webdriver\n",
    "browser = webdriver.Chrome()\n",
    "url = \"https://staff.am/en\"\n",
    "browser.get(url)"
   ]
  },
  {
   "cell_type": "code",
   "execution_count": 38,
   "metadata": {
    "collapsed": true
   },
   "outputs": [],
   "source": [
    "trainings=browser.find_element_by_link_text(\"TRAININGS\")\n",
    "trainings.click()"
   ]
  },
  {
   "cell_type": "code",
   "execution_count": 39,
   "metadata": {
    "collapsed": true
   },
   "outputs": [],
   "source": [
    "b=browser.page_source"
   ]
  },
  {
   "cell_type": "code",
   "execution_count": 40,
   "metadata": {
    "collapsed": true
   },
   "outputs": [],
   "source": [
    "job_list=browser.find_element_by_xpath('//*[@id=\"job-list-pagination\"]/ul/li[3]/a')\n",
    "job_list.click()"
   ]
  },
  {
   "cell_type": "code",
   "execution_count": 41,
   "metadata": {
    "collapsed": true
   },
   "outputs": [],
   "source": [
    "b_1=browser.page_source"
   ]
  },
  {
   "cell_type": "code",
   "execution_count": 42,
   "metadata": {
    "collapsed": false
   },
   "outputs": [],
   "source": [
    "job_list_2=browser.find_element_by_xpath('//*[@id=\"job-list-pagination\"]/ul/li[4]/a')\n",
    "job_list_2.click()"
   ]
  },
  {
   "cell_type": "code",
   "execution_count": 43,
   "metadata": {
    "collapsed": true
   },
   "outputs": [],
   "source": [
    "b_2=browser.page_source"
   ]
  },
  {
   "cell_type": "code",
   "execution_count": 44,
   "metadata": {
    "collapsed": false
   },
   "outputs": [],
   "source": [
    "browser.close()"
   ]
  },
  {
   "cell_type": "code",
   "execution_count": 45,
   "metadata": {
    "collapsed": true
   },
   "outputs": [],
   "source": [
    "from BeautifulSoup import *\n",
    "import re"
   ]
  },
  {
   "cell_type": "code",
   "execution_count": 53,
   "metadata": {
    "collapsed": false
   },
   "outputs": [
    {
     "name": "stdout",
     "output_type": "stream",
     "text": [
      "[57500, 0, 84000, 48000, 50000, 69000, 0, 0, 0, 0, 0, 0, 0, 73000, 52000, 96000, 45000, 96000, 125000, 4800, 0, 0, 0]\n"
     ]
    }
   ],
   "source": [
    "browse= [b,b_1,b_2]\n",
    "price=[]\n",
    "for i in browse:\n",
    "    soup = BeautifulSoup(i)\n",
    "    training_price = soup.findAll(\"div\", attrs={'class':\"training-price job-inner\"})\n",
    "    for i in training_price:\n",
    "        if i.text == \"Price:                                        FREE\":\n",
    "            x = 0\n",
    "            price.append(x)\n",
    "        else:\n",
    "            f = re.findall(\"([0-9]+\\S+)AMD\", i.text)\n",
    "            p= int(re.sub(r',', r'',str(f[0])))\n",
    "            price.append(p)\n",
    "print price"
   ]
  },
  {
   "cell_type": "code",
   "execution_count": 54,
   "metadata": {
    "collapsed": false
   },
   "outputs": [],
   "source": [
    "avg_price=sum(price)/len(price)"
   ]
  },
  {
   "cell_type": "code",
   "execution_count": 55,
   "metadata": {
    "collapsed": false
   },
   "outputs": [
    {
     "data": {
      "text/plain": [
       "34795"
      ]
     },
     "execution_count": 55,
     "metadata": {},
     "output_type": "execute_result"
    }
   ],
   "source": [
    "avg_price"
   ]
  },
  {
   "cell_type": "code",
   "execution_count": null,
   "metadata": {
    "collapsed": true
   },
   "outputs": [],
   "source": []
  }
 ],
 "metadata": {
  "kernelspec": {
   "display_name": "Python 2",
   "language": "python",
   "name": "python2"
  }
 },
 "nbformat": 4,
 "nbformat_minor": 2
}
