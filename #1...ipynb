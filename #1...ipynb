{
 "cells": [
  {
   "cell_type": "code",
   "execution_count": 33,
   "metadata": {
    "collapsed": true
   },
   "outputs": [],
   "source": [
    "from selenium import webdriver\n",
    "from selenium.webdriver.support.ui import Select\n",
    "from time import*\n",
    "browser = webdriver.Chrome()\n",
    "url = \"http://rate.am/en/armenian-dram-exchange-rates/banks/non-cash\"\n",
    "browser.get(url)\n",
    "all=browser.find_element_by_xpath('//*[@id=\"aspnetForm\"]/div[3]/div[2]/div[1]/div[4]/div[3]/table/tbody/tr/td[1]/a')\n",
    "all.click()"
   ]
  },
  {
   "cell_type": "code",
   "execution_count": 34,
   "metadata": {
    "collapsed": true
   },
   "outputs": [],
   "source": [
    "year=browser.find_element_by_xpath('//*[@id=\"calBorder\"]/span/table/tbody/tr[1]/td/table/tbody/tr/td[2]/select')\n",
    "y=Select(year)\n",
    "y.select_by_visible_text('2016')"
   ]
  },
  {
   "cell_type": "code",
   "execution_count": 35,
   "metadata": {
    "collapsed": false
   },
   "outputs": [],
   "source": [
    "month=browser.find_element_by_xpath('//*[@id=\"calBorder\"]/span/table/tbody/tr[1]/td/table/tbody/tr/td[1]/select')\n",
    "m=Select(month)\n",
    "m.select_by_visible_text('July')"
   ]
  },
  {
   "cell_type": "code",
   "execution_count": 36,
   "metadata": {
    "collapsed": true
   },
   "outputs": [],
   "source": [
    "jul_20=browser.find_element_by_xpath('//*[@id=\"calBorder\"]/span/table/tbody/tr[3]/td/table/tbody/tr[5]/td[3]')\n",
    "jul_20.click()"
   ]
  },
  {
   "cell_type": "code",
   "execution_count": 37,
   "metadata": {
    "collapsed": true
   },
   "outputs": [],
   "source": [
    "open=browser.find_element_by_xpath('//*[@id=\"ctl00_Content_RB_dtpick1_btnOk\"]')\n",
    "open.click()"
   ]
  },
  {
   "cell_type": "code",
   "execution_count": 38,
   "metadata": {
    "collapsed": true
   },
   "outputs": [],
   "source": [
    "import pandas as pd"
   ]
  },
  {
   "cell_type": "code",
   "execution_count": 39,
   "metadata": {
    "collapsed": true
   },
   "outputs": [],
   "source": [
    "import csv"
   ]
  },
  {
   "cell_type": "code",
   "execution_count": 40,
   "metadata": {
    "collapsed": true
   },
   "outputs": [],
   "source": [
    "rates_table=pd.read_html(browser.find_element_by_class_name(\"rb\").get_attribute('outerHTML'))\n",
    "rates_table = rates_table[0]\n",
    "rates_table = rates_table[2:19] \n",
    "del rates_table[0]\n",
    "del rates_table[2]\n",
    "del rates_table[3]"
   ]
  },
  {
   "cell_type": "code",
   "execution_count": 41,
   "metadata": {
    "collapsed": true
   },
   "outputs": [],
   "source": [
    "\n",
    "rates_table.columns = [\"Բանկ\", \"Ամսաթիվ\", \"USD_Առք\", \"USD_Վաճ\", \"EUR_Առք\", \"EUR_Վաճ\", \"RUB_Առք\", \"RUB_Վաճ\", \"GBF_Առք\", \"GBF_Վաճ\"]"
   ]
  },
  {
   "cell_type": "code",
   "execution_count": 42,
   "metadata": {
    "collapsed": false
   },
   "outputs": [
    {
     "data": {
      "text/html": [
       "<div>\n",
       "<table border=\"1\" class=\"dataframe\">\n",
       "  <thead>\n",
       "    <tr style=\"text-align: right;\">\n",
       "      <th></th>\n",
       "      <th>Բանկ</th>\n",
       "      <th>Ամսաթիվ</th>\n",
       "      <th>USD_Առք</th>\n",
       "      <th>USD_Վաճ</th>\n",
       "      <th>EUR_Առք</th>\n",
       "      <th>EUR_Վաճ</th>\n",
       "      <th>RUB_Առք</th>\n",
       "      <th>RUB_Վաճ</th>\n",
       "      <th>GBF_Առք</th>\n",
       "      <th>GBF_Վաճ</th>\n",
       "    </tr>\n",
       "  </thead>\n",
       "  <tbody>\n",
       "    <tr>\n",
       "      <th>2</th>\n",
       "      <td>ՀԱՅԲԻԶՆԵՍԲԱՆԿ ՓԲԸ</td>\n",
       "      <td>20 Jul, 20:00</td>\n",
       "      <td>474</td>\n",
       "      <td>477</td>\n",
       "      <td>520.10</td>\n",
       "      <td>527.1</td>\n",
       "      <td>7.41</td>\n",
       "      <td>7.67</td>\n",
       "      <td>617.1</td>\n",
       "      <td>629.1</td>\n",
       "    </tr>\n",
       "    <tr>\n",
       "      <th>3</th>\n",
       "      <td>Յունիբանկ</td>\n",
       "      <td>20 Jul, 20:00</td>\n",
       "      <td>473.50</td>\n",
       "      <td>478</td>\n",
       "      <td>519</td>\n",
       "      <td>531.0</td>\n",
       "      <td>7.40</td>\n",
       "      <td>7.80</td>\n",
       "      <td>610.0</td>\n",
       "      <td>640.0</td>\n",
       "    </tr>\n",
       "    <tr>\n",
       "      <th>4</th>\n",
       "      <td>Էյչ-Էս-Բի-Սի Բանկ</td>\n",
       "      <td>20 Jul, 20:00</td>\n",
       "      <td>473.50</td>\n",
       "      <td>478.50</td>\n",
       "      <td>519</td>\n",
       "      <td>529.0</td>\n",
       "      <td>7.36</td>\n",
       "      <td>7.67</td>\n",
       "      <td>618.5</td>\n",
       "      <td>630.5</td>\n",
       "    </tr>\n",
       "    <tr>\n",
       "      <th>5</th>\n",
       "      <td>Անելիք Բանկ</td>\n",
       "      <td>20 Jul, 20:00</td>\n",
       "      <td>474</td>\n",
       "      <td>477.50</td>\n",
       "      <td>517</td>\n",
       "      <td>528.0</td>\n",
       "      <td>7.35</td>\n",
       "      <td>7.65</td>\n",
       "      <td>NaN</td>\n",
       "      <td>NaN</td>\n",
       "    </tr>\n",
       "    <tr>\n",
       "      <th>6</th>\n",
       "      <td>Կոնվերս բանկ</td>\n",
       "      <td>20 Jul, 20:00</td>\n",
       "      <td>475</td>\n",
       "      <td>478</td>\n",
       "      <td>520</td>\n",
       "      <td>527.0</td>\n",
       "      <td>7.43</td>\n",
       "      <td>7.77</td>\n",
       "      <td>619.0</td>\n",
       "      <td>628.0</td>\n",
       "    </tr>\n",
       "    <tr>\n",
       "      <th>7</th>\n",
       "      <td>ՎՏԲ-Հայաստան Բանկ</td>\n",
       "      <td>20 Jul, 20:00</td>\n",
       "      <td>474</td>\n",
       "      <td>477.50</td>\n",
       "      <td>519</td>\n",
       "      <td>525.5</td>\n",
       "      <td>7.42</td>\n",
       "      <td>7.55</td>\n",
       "      <td>618.0</td>\n",
       "      <td>630.0</td>\n",
       "    </tr>\n",
       "    <tr>\n",
       "      <th>8</th>\n",
       "      <td>Ամերիաբանկ</td>\n",
       "      <td>20 Jul, 20:00</td>\n",
       "      <td>473.50</td>\n",
       "      <td>477.50</td>\n",
       "      <td>519</td>\n",
       "      <td>529.0</td>\n",
       "      <td>7.37</td>\n",
       "      <td>7.62</td>\n",
       "      <td>621.5</td>\n",
       "      <td>631.5</td>\n",
       "    </tr>\n",
       "    <tr>\n",
       "      <th>9</th>\n",
       "      <td>Բիբլոս Բանկ Արմենիա</td>\n",
       "      <td>20 Jul, 20:00</td>\n",
       "      <td>474</td>\n",
       "      <td>478.50</td>\n",
       "      <td>519</td>\n",
       "      <td>530.0</td>\n",
       "      <td>7.38</td>\n",
       "      <td>7.65</td>\n",
       "      <td>615.0</td>\n",
       "      <td>634.0</td>\n",
       "    </tr>\n",
       "    <tr>\n",
       "      <th>10</th>\n",
       "      <td>ԱԿԲԱ-ԿՐԵԴԻՏ ԱԳՐԻԿՈԼ ..</td>\n",
       "      <td>20 Jul, 20:00</td>\n",
       "      <td>473.50</td>\n",
       "      <td>477.50</td>\n",
       "      <td>519.50</td>\n",
       "      <td>527.5</td>\n",
       "      <td>7.43</td>\n",
       "      <td>7.59</td>\n",
       "      <td>620.0</td>\n",
       "      <td>635.0</td>\n",
       "    </tr>\n",
       "    <tr>\n",
       "      <th>11</th>\n",
       "      <td>Արցախբանկ</td>\n",
       "      <td>20 Jul, 20:00</td>\n",
       "      <td>475</td>\n",
       "      <td>478</td>\n",
       "      <td>520</td>\n",
       "      <td>528.0</td>\n",
       "      <td>7.35</td>\n",
       "      <td>7.70</td>\n",
       "      <td>616.0</td>\n",
       "      <td>631.0</td>\n",
       "    </tr>\n",
       "    <tr>\n",
       "      <th>12</th>\n",
       "      <td>Արմսվիսբանկ</td>\n",
       "      <td>20 Jul, 20:00</td>\n",
       "      <td>474.50</td>\n",
       "      <td>477.50</td>\n",
       "      <td>521</td>\n",
       "      <td>528.0</td>\n",
       "      <td>7.42</td>\n",
       "      <td>7.62</td>\n",
       "      <td>620.0</td>\n",
       "      <td>628.0</td>\n",
       "    </tr>\n",
       "    <tr>\n",
       "      <th>13</th>\n",
       "      <td>Պրոմեթեյ Բանկ</td>\n",
       "      <td>20 Jul, 20:00</td>\n",
       "      <td>475</td>\n",
       "      <td>477</td>\n",
       "      <td>521</td>\n",
       "      <td>527.0</td>\n",
       "      <td>7.44</td>\n",
       "      <td>7.67</td>\n",
       "      <td>619.0</td>\n",
       "      <td>629.0</td>\n",
       "    </tr>\n",
       "    <tr>\n",
       "      <th>14</th>\n",
       "      <td>Արդշինբանկ</td>\n",
       "      <td>20 Jul, 20:00</td>\n",
       "      <td>474</td>\n",
       "      <td>478</td>\n",
       "      <td>518</td>\n",
       "      <td>530.0</td>\n",
       "      <td>7.35</td>\n",
       "      <td>7.65</td>\n",
       "      <td>615.0</td>\n",
       "      <td>645.0</td>\n",
       "    </tr>\n",
       "    <tr>\n",
       "      <th>15</th>\n",
       "      <td>Ինեկոբանկ</td>\n",
       "      <td>20 Jul, 20:00</td>\n",
       "      <td>475</td>\n",
       "      <td>477.75</td>\n",
       "      <td>519.50</td>\n",
       "      <td>527.5</td>\n",
       "      <td>7.38</td>\n",
       "      <td>7.60</td>\n",
       "      <td>619.0</td>\n",
       "      <td>633.0</td>\n",
       "    </tr>\n",
       "    <tr>\n",
       "      <th>16</th>\n",
       "      <td>Մելլաթ բանկ</td>\n",
       "      <td>20 Jul, 20:00</td>\n",
       "      <td>473.50</td>\n",
       "      <td>477.50</td>\n",
       "      <td>519</td>\n",
       "      <td>529.0</td>\n",
       "      <td>NaN</td>\n",
       "      <td>NaN</td>\n",
       "      <td>NaN</td>\n",
       "      <td>NaN</td>\n",
       "    </tr>\n",
       "    <tr>\n",
       "      <th>17</th>\n",
       "      <td>ԱՐԱՐԱՏԲԱՆԿ</td>\n",
       "      <td>20 Jul, 20:00</td>\n",
       "      <td>474</td>\n",
       "      <td>477.50</td>\n",
       "      <td>516</td>\n",
       "      <td>530.0</td>\n",
       "      <td>7.40</td>\n",
       "      <td>7.75</td>\n",
       "      <td>616.0</td>\n",
       "      <td>633.0</td>\n",
       "    </tr>\n",
       "    <tr>\n",
       "      <th>18</th>\n",
       "      <td>ՀԱՅԷԿՈՆՈՄԲԱՆԿ</td>\n",
       "      <td>20 Jul, 20:00</td>\n",
       "      <td>473.50</td>\n",
       "      <td>477.50</td>\n",
       "      <td>517</td>\n",
       "      <td>527.0</td>\n",
       "      <td>7.43</td>\n",
       "      <td>7.80</td>\n",
       "      <td>616.0</td>\n",
       "      <td>642.0</td>\n",
       "    </tr>\n",
       "  </tbody>\n",
       "</table>\n",
       "</div>"
      ],
      "text/plain": [
       "                      Բանկ        Ամսաթիվ USD_Առք USD_Վաճ EUR_Առք  EUR_Վաճ  \\\n",
       "2        ՀԱՅԲԻԶՆԵՍԲԱՆԿ ՓԲԸ  20 Jul, 20:00     474     477  520.10    527.1   \n",
       "3                Յունիբանկ  20 Jul, 20:00  473.50     478     519    531.0   \n",
       "4        Էյչ-Էս-Բի-Սի Բանկ  20 Jul, 20:00  473.50  478.50     519    529.0   \n",
       "5              Անելիք Բանկ  20 Jul, 20:00     474  477.50     517    528.0   \n",
       "6             Կոնվերս բանկ  20 Jul, 20:00     475     478     520    527.0   \n",
       "7        ՎՏԲ-Հայաստան Բանկ  20 Jul, 20:00     474  477.50     519    525.5   \n",
       "8               Ամերիաբանկ  20 Jul, 20:00  473.50  477.50     519    529.0   \n",
       "9      Բիբլոս Բանկ Արմենիա  20 Jul, 20:00     474  478.50     519    530.0   \n",
       "10  ԱԿԲԱ-ԿՐԵԴԻՏ ԱԳՐԻԿՈԼ ..  20 Jul, 20:00  473.50  477.50  519.50    527.5   \n",
       "11               Արցախբանկ  20 Jul, 20:00     475     478     520    528.0   \n",
       "12             Արմսվիսբանկ  20 Jul, 20:00  474.50  477.50     521    528.0   \n",
       "13           Պրոմեթեյ Բանկ  20 Jul, 20:00     475     477     521    527.0   \n",
       "14              Արդշինբանկ  20 Jul, 20:00     474     478     518    530.0   \n",
       "15               Ինեկոբանկ  20 Jul, 20:00     475  477.75  519.50    527.5   \n",
       "16             Մելլաթ բանկ  20 Jul, 20:00  473.50  477.50     519    529.0   \n",
       "17              ԱՐԱՐԱՏԲԱՆԿ  20 Jul, 20:00     474  477.50     516    530.0   \n",
       "18           ՀԱՅԷԿՈՆՈՄԲԱՆԿ  20 Jul, 20:00  473.50  477.50     517    527.0   \n",
       "\n",
       "    RUB_Առք  RUB_Վաճ  GBF_Առք  GBF_Վաճ  \n",
       "2      7.41     7.67    617.1    629.1  \n",
       "3      7.40     7.80    610.0    640.0  \n",
       "4      7.36     7.67    618.5    630.5  \n",
       "5      7.35     7.65      NaN      NaN  \n",
       "6      7.43     7.77    619.0    628.0  \n",
       "7      7.42     7.55    618.0    630.0  \n",
       "8      7.37     7.62    621.5    631.5  \n",
       "9      7.38     7.65    615.0    634.0  \n",
       "10     7.43     7.59    620.0    635.0  \n",
       "11     7.35     7.70    616.0    631.0  \n",
       "12     7.42     7.62    620.0    628.0  \n",
       "13     7.44     7.67    619.0    629.0  \n",
       "14     7.35     7.65    615.0    645.0  \n",
       "15     7.38     7.60    619.0    633.0  \n",
       "16      NaN      NaN      NaN      NaN  \n",
       "17     7.40     7.75    616.0    633.0  \n",
       "18     7.43     7.80    616.0    642.0  "
      ]
     },
     "execution_count": 42,
     "metadata": {},
     "output_type": "execute_result"
    }
   ],
   "source": [
    "rates_table"
   ]
  },
  {
   "cell_type": "code",
   "execution_count": null,
   "metadata": {
    "collapsed": true
   },
   "outputs": [],
   "source": [
    "from unicodecsv import*\n",
    "with open(\"table.csv\", \"w\") as f:\n",
    "    rates_table.to_csv(f, header=True, index=False, encoding='utf-8')"
   ]
  },
  {
   "cell_type": "code",
   "execution_count": null,
   "metadata": {
    "collapsed": true
   },
   "outputs": [],
   "source": []
  }
 ],
 "metadata": {
  "kernelspec": {
   "display_name": "Python 2",
   "language": "python",
   "name": "python2"
  },
  "language_info": {
   "codemirror_mode": {
    "name": "ipython",
    "version": 2
   },
   "file_extension": ".py",
   "mimetype": "text/x-python",
   "name": "python",
   "nbconvert_exporter": "python",
   "pygments_lexer": "ipython2",
   "version": "2.7.13"
  }
 },
 "nbformat": 4,
 "nbformat_minor": 2
}
